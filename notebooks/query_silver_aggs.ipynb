{
 "cells": [
  {
   "cell_type": "code",
   "execution_count": 1,
   "metadata": {},
   "outputs": [],
   "source": [
    "from deltalake import DeltaTable\n",
    "import prefect as pf\n",
    "import prefect.blocks.system as pfbs\n"
   ]
  },
  {
   "cell_type": "code",
   "execution_count": 2,
   "metadata": {},
   "outputs": [],
   "source": [
    "import s3fs"
   ]
  },
  {
   "cell_type": "code",
   "execution_count": 3,
   "metadata": {},
   "outputs": [],
   "source": [
    "aws_access_key = (await pfbs.Secret.load(\"minio-access-key\")).get()\n",
    "aws_secret_key = (await pfbs.Secret.load(\"minio-secret-key\")).get()\n"
   ]
  },
  {
   "cell_type": "code",
   "execution_count": 4,
   "metadata": {},
   "outputs": [],
   "source": [
    "\n",
    "pl_s3_delta_config = {\n",
    "    \"endpoint\": \"http://localhost:9000\",\n",
    "    \"access_key_id\": aws_access_key,\n",
    "    \"secret_access_key\": aws_secret_key,\n",
    "    \"region\": \"us-east-1\",\n",
    "    \"allow_http\": \"true\",\n",
    "}\n",
    "\n",
    "s3_fs = s3fs.S3FileSystem(\n",
    "    key=aws_access_key, secret=aws_secret_key, client_kwargs={\"endpoint_url\": \"http://localhost:9000\"}\n",
    ")\n"
   ]
  },
  {
   "cell_type": "code",
   "execution_count": 23,
   "metadata": {},
   "outputs": [],
   "source": [
    "dt_aggs_silver = DeltaTable(\"s3://etl/polygon/silver/daily_aggs/\", storage_options=pl_s3_delta_config)"
   ]
  },
  {
   "cell_type": "code",
   "execution_count": 25,
   "metadata": {},
   "outputs": [],
   "source": [
    "import polars as pl"
   ]
  },
  {
   "cell_type": "code",
   "execution_count": 26,
   "metadata": {},
   "outputs": [
    {
     "data": {
      "text/html": [
       "<div><style>\n",
       ".dataframe > thead > tr,\n",
       ".dataframe > tbody > tr {\n",
       "  text-align: right;\n",
       "  white-space: pre-wrap;\n",
       "}\n",
       "</style>\n",
       "<small>shape: (4, 1)</small><table border=\"1\" class=\"dataframe\"><thead><tr><th>ticker</th></tr><tr><td>str</td></tr></thead><tbody><tr><td>&quot;AAPL&quot;</td></tr><tr><td>&quot;BBVA&quot;</td></tr><tr><td>&quot;NVDA&quot;</td></tr><tr><td>&quot;MSFT&quot;</td></tr></tbody></table></div>"
      ],
      "text/plain": [
       "shape: (4, 1)\n",
       "┌────────┐\n",
       "│ ticker │\n",
       "│ ---    │\n",
       "│ str    │\n",
       "╞════════╡\n",
       "│ AAPL   │\n",
       "│ BBVA   │\n",
       "│ NVDA   │\n",
       "│ MSFT   │\n",
       "└────────┘"
      ]
     },
     "execution_count": 26,
     "metadata": {},
     "output_type": "execute_result"
    }
   ],
   "source": [
    "pl.scan_pyarrow_dataset(dt_aggs_silver.to_pyarrow_dataset()).select(pl.col(\"ticker\").unique()).collect()"
   ]
  },
  {
   "cell_type": "code",
   "execution_count": null,
   "metadata": {},
   "outputs": [],
   "source": []
  }
 ],
 "metadata": {
  "kernelspec": {
   "display_name": "temp.polygon_ETL",
   "language": "python",
   "name": "temp.polygon_etl"
  },
  "language_info": {
   "codemirror_mode": {
    "name": "ipython",
    "version": 3
   },
   "file_extension": ".py",
   "mimetype": "text/x-python",
   "name": "python",
   "nbconvert_exporter": "python",
   "pygments_lexer": "ipython3",
   "version": "3.11.7"
  }
 },
 "nbformat": 4,
 "nbformat_minor": 2
}
