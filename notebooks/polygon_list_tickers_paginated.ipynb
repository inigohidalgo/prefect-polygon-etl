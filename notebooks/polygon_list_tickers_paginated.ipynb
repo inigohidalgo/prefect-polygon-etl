{
 "cells": [
  {
   "cell_type": "code",
   "execution_count": 2,
   "metadata": {},
   "outputs": [],
   "source": [
    "import prefect as pf\n",
    "import prefect.blocks.system as pfbs\n",
    "import time\n"
   ]
  },
  {
   "cell_type": "code",
   "execution_count": 3,
   "metadata": {},
   "outputs": [],
   "source": [
    "import polars as pl"
   ]
  },
  {
   "cell_type": "code",
   "execution_count": 4,
   "metadata": {},
   "outputs": [],
   "source": [
    "from polygon import RESTClient\n",
    "from urllib3.exceptions import MaxRetryError"
   ]
  },
  {
   "cell_type": "code",
   "execution_count": 5,
   "metadata": {},
   "outputs": [],
   "source": [
    "polygon_key_block = await pfbs.Secret.load(\"polygon-api-key\")\n",
    "polygon_key = polygon_key_block.get()"
   ]
  },
  {
   "cell_type": "code",
   "execution_count": 6,
   "metadata": {},
   "outputs": [],
   "source": [
    "plg = RESTClient(polygon_key)"
   ]
  },
  {
   "cell_type": "code",
   "execution_count": 7,
   "metadata": {},
   "outputs": [],
   "source": [
    "import time"
   ]
  },
  {
   "cell_type": "code",
   "execution_count": 8,
   "metadata": {},
   "outputs": [],
   "source": [
    "\n",
    "ticker_lister = plg.list_tickers(\n",
    "    market=\"stocks\",\n",
    "    type=\"CS\",\n",
    "    active=\"true\",\n",
    "    limit=1000,\n",
    "    # params={\"ticker.gt\": tickers[-1].ticker}\n",
    ")\n"
   ]
  },
  {
   "cell_type": "code",
   "execution_count": 9,
   "metadata": {},
   "outputs": [
    {
     "name": "stdout",
     "output_type": "stream",
     "text": [
      "500\n",
      "1000\n",
      "1500\n",
      "2000\n",
      "2500\n",
      "3000\n",
      "3500\n",
      "4000\n",
      "4500\n",
      "5000\n",
      "Sleeping for 57.438298995024525\n"
     ]
    },
    {
     "ename": "RuntimeError",
     "evalue": "generator raised StopIteration",
     "output_type": "error",
     "traceback": [
      "\u001b[0;31m---------------------------------------------------------------------------\u001b[0m",
      "\u001b[0;31mStopIteration\u001b[0m                             Traceback (most recent call last)",
      "Cell \u001b[0;32mIn[9], line 5\u001b[0m, in \u001b[0;36miterate_ticker_lister\u001b[0;34m(lister)\u001b[0m\n\u001b[1;32m      4\u001b[0m \u001b[38;5;28;01mtry\u001b[39;00m:\n\u001b[0;32m----> 5\u001b[0m     \u001b[38;5;28;01myield\u001b[39;00m \u001b[38;5;28mnext\u001b[39m(lister)\n\u001b[1;32m      6\u001b[0m \u001b[38;5;28;01mexcept\u001b[39;00m MaxRetryError:\n",
      "\u001b[0;31mStopIteration\u001b[0m: ",
      "\nThe above exception was the direct cause of the following exception:\n",
      "\u001b[0;31mRuntimeError\u001b[0m                              Traceback (most recent call last)",
      "Cell \u001b[0;32mIn[9], line 13\u001b[0m\n\u001b[1;32m      9\u001b[0m             start_time \u001b[38;5;241m=\u001b[39m time\u001b[38;5;241m.\u001b[39mmonotonic()\n\u001b[1;32m     12\u001b[0m tickers \u001b[38;5;241m=\u001b[39m []\n\u001b[0;32m---> 13\u001b[0m \u001b[38;5;28;43;01mfor\u001b[39;49;00m\u001b[43m \u001b[49m\u001b[43mticker\u001b[49m\u001b[43m \u001b[49m\u001b[38;5;129;43;01min\u001b[39;49;00m\u001b[43m \u001b[49m\u001b[43miterate_ticker_lister\u001b[49m\u001b[43m(\u001b[49m\u001b[43mticker_lister\u001b[49m\u001b[43m)\u001b[49m\u001b[43m:\u001b[49m\n\u001b[1;32m     14\u001b[0m \u001b[43m    \u001b[49m\u001b[43mtickers\u001b[49m\u001b[38;5;241;43m.\u001b[39;49m\u001b[43mappend\u001b[49m\u001b[43m(\u001b[49m\u001b[43mticker\u001b[49m\u001b[43m)\u001b[49m\n\u001b[1;32m     15\u001b[0m \u001b[43m    \u001b[49m\u001b[38;5;28;43;01mif\u001b[39;49;00m\u001b[43m \u001b[49m\u001b[38;5;28;43mlen\u001b[39;49m\u001b[43m(\u001b[49m\u001b[43mtickers\u001b[49m\u001b[43m)\u001b[49m\u001b[43m \u001b[49m\u001b[38;5;241;43m%\u001b[39;49m\u001b[43m \u001b[49m\u001b[38;5;241;43m500\u001b[39;49m\u001b[43m \u001b[49m\u001b[38;5;241;43m==\u001b[39;49m\u001b[43m \u001b[49m\u001b[38;5;241;43m0\u001b[39;49m\u001b[43m:\u001b[49m\n",
      "\u001b[0;31mRuntimeError\u001b[0m: generator raised StopIteration"
     ]
    }
   ],
   "source": [
    "\n",
    "def iterate_ticker_lister(lister):\n",
    "    start_time = time.monotonic()\n",
    "    while True:\n",
    "        try:\n",
    "            yield next(lister)\n",
    "        except MaxRetryError:\n",
    "            print(f\"Sleeping for {60 - (time.monotonic() - start_time)}\")\n",
    "            time.sleep(60 - (time.monotonic() - start_time))\n",
    "            start_time = time.monotonic()\n",
    "\n",
    "\n",
    "tickers = []\n",
    "for ticker in iterate_ticker_lister(ticker_lister):\n",
    "    tickers.append(ticker)\n",
    "    if len(tickers) % 500 == 0:\n",
    "        print(len(tickers))\n"
   ]
  },
  {
   "cell_type": "code",
   "execution_count": 12,
   "metadata": {},
   "outputs": [
    {
     "ename": "RuntimeError",
     "evalue": "generator raised StopIteration",
     "output_type": "error",
     "traceback": [
      "\u001b[0;31m---------------------------------------------------------------------------\u001b[0m",
      "\u001b[0;31mStopIteration\u001b[0m                             Traceback (most recent call last)",
      "Cell \u001b[0;32mIn[9], line 5\u001b[0m, in \u001b[0;36miterate_ticker_lister\u001b[0;34m(lister)\u001b[0m\n\u001b[1;32m      4\u001b[0m \u001b[38;5;28;01mtry\u001b[39;00m:\n\u001b[0;32m----> 5\u001b[0m     \u001b[38;5;28;01myield\u001b[39;00m \u001b[38;5;28mnext\u001b[39m(lister)\n\u001b[1;32m      6\u001b[0m \u001b[38;5;28;01mexcept\u001b[39;00m MaxRetryError:\n",
      "\u001b[0;31mStopIteration\u001b[0m: ",
      "\nThe above exception was the direct cause of the following exception:\n",
      "\u001b[0;31mRuntimeError\u001b[0m                              Traceback (most recent call last)",
      "Cell \u001b[0;32mIn[12], line 9\u001b[0m\n\u001b[1;32m      1\u001b[0m ticker_lister \u001b[38;5;241m=\u001b[39m plg\u001b[38;5;241m.\u001b[39mlist_tickers(\n\u001b[1;32m      2\u001b[0m     market\u001b[38;5;241m=\u001b[39m\u001b[38;5;124m\"\u001b[39m\u001b[38;5;124mstocks\u001b[39m\u001b[38;5;124m\"\u001b[39m,\n\u001b[1;32m      3\u001b[0m     \u001b[38;5;28mtype\u001b[39m\u001b[38;5;241m=\u001b[39m\u001b[38;5;124m\"\u001b[39m\u001b[38;5;124mCS\u001b[39m\u001b[38;5;124m\"\u001b[39m,\n\u001b[0;32m   (...)\u001b[0m\n\u001b[1;32m      6\u001b[0m     params\u001b[38;5;241m=\u001b[39m{\u001b[38;5;124m\"\u001b[39m\u001b[38;5;124mticker.gt\u001b[39m\u001b[38;5;124m\"\u001b[39m: tickers[\u001b[38;5;241m-\u001b[39m\u001b[38;5;241m1\u001b[39m]\u001b[38;5;241m.\u001b[39mticker}\n\u001b[1;32m      7\u001b[0m )\n\u001b[0;32m----> 9\u001b[0m \u001b[38;5;28;43;01mfor\u001b[39;49;00m\u001b[43m \u001b[49m\u001b[43mticker\u001b[49m\u001b[43m \u001b[49m\u001b[38;5;129;43;01min\u001b[39;49;00m\u001b[43m \u001b[49m\u001b[43miterate_ticker_lister\u001b[49m\u001b[43m(\u001b[49m\u001b[43mticker_lister\u001b[49m\u001b[43m)\u001b[49m\u001b[43m:\u001b[49m\n\u001b[1;32m     10\u001b[0m \u001b[43m    \u001b[49m\u001b[43mtickers\u001b[49m\u001b[38;5;241;43m.\u001b[39;49m\u001b[43mappend\u001b[49m\u001b[43m(\u001b[49m\u001b[43mticker\u001b[49m\u001b[43m)\u001b[49m\n\u001b[1;32m     11\u001b[0m \u001b[43m    \u001b[49m\u001b[38;5;28;43;01mif\u001b[39;49;00m\u001b[43m \u001b[49m\u001b[38;5;28;43mlen\u001b[39;49m\u001b[43m(\u001b[49m\u001b[43mtickers\u001b[49m\u001b[43m)\u001b[49m\u001b[43m \u001b[49m\u001b[38;5;241;43m%\u001b[39;49m\u001b[43m \u001b[49m\u001b[38;5;241;43m500\u001b[39;49m\u001b[43m \u001b[49m\u001b[38;5;241;43m==\u001b[39;49m\u001b[43m \u001b[49m\u001b[38;5;241;43m0\u001b[39;49m\u001b[43m:\u001b[49m\n",
      "\u001b[0;31mRuntimeError\u001b[0m: generator raised StopIteration"
     ]
    }
   ],
   "source": [
    "ticker_lister = plg.list_tickers(\n",
    "    market=\"stocks\",\n",
    "    type=\"CS\",\n",
    "    active=\"true\",\n",
    "    limit=1000,\n",
    "    params={\"ticker.gt\": tickers[-1].ticker}\n",
    ")\n",
    "\n",
    "for ticker in iterate_ticker_lister(ticker_lister):\n",
    "    tickers.append(ticker)\n",
    "    if len(tickers) % 500 == 0:\n",
    "        print(len(tickers))"
   ]
  },
  {
   "cell_type": "code",
   "execution_count": 14,
   "metadata": {},
   "outputs": [
    {
     "data": {
      "text/plain": [
       "5314"
      ]
     },
     "execution_count": 14,
     "metadata": {},
     "output_type": "execute_result"
    }
   ],
   "source": [
    "len(tickers)"
   ]
  },
  {
   "cell_type": "code",
   "execution_count": 15,
   "metadata": {},
   "outputs": [],
   "source": [
    "import datetime"
   ]
  },
  {
   "cell_type": "code",
   "execution_count": 16,
   "metadata": {},
   "outputs": [],
   "source": [
    "from enum import Enum\n",
    "import datetime\n",
    "class BronzeConstants(Enum):\n",
    "    TIMESTAMP_INSERTION_COLUMN = \"ingestion_timestamp\""
   ]
  },
  {
   "cell_type": "code",
   "execution_count": 18,
   "metadata": {},
   "outputs": [],
   "source": [
    "tickers_pl = (pl.DataFrame(tickers)\n",
    "        .with_columns(\n",
    "            pl.lit(datetime.datetime.utcnow()).alias(BronzeConstants.TIMESTAMP_INSERTION_COLUMN.value),\n",
    "        ))"
   ]
  },
  {
   "cell_type": "code",
   "execution_count": 19,
   "metadata": {},
   "outputs": [],
   "source": [
    "import os\n",
    "os.environ[\"AWS_S3_ALLOW_UNSAFE_RENAME\"] = \"true\""
   ]
  },
  {
   "cell_type": "code",
   "execution_count": 22,
   "metadata": {},
   "outputs": [],
   "source": [
    "from prefect_etl.storage_config import MinIOCredentials\n",
    "from flows.polygon_elt.get_aggregates import MINIO_CREDENTIAL_SECRET_KEY\n",
    "minio_credentials = await MinIOCredentials.load(MINIO_CREDENTIAL_SECRET_KEY)"
   ]
  },
  {
   "cell_type": "code",
   "execution_count": 24,
   "metadata": {},
   "outputs": [
    {
     "data": {
      "text/plain": [
       "{'endpoint': 'http://localhost:9000',\n",
       " 'access_key_id': 'c4dqtQY3jEc1sp7ErJf4',\n",
       " 'secret_access_key': 'V0JTYpL2pv4RDlShahWIzNCuttxbVVKMea1OWBoI',\n",
       " 'region': 'us-east-1',\n",
       " 'allow_http': 'true'}"
      ]
     },
     "execution_count": 24,
     "metadata": {},
     "output_type": "execute_result"
    }
   ],
   "source": [
    "minio_credentials.rust_s3_kwargs"
   ]
  },
  {
   "cell_type": "code",
   "execution_count": 25,
   "metadata": {},
   "outputs": [],
   "source": [
    "tickers_pl.write_delta(\n",
    "    f\"s3://etl/polygon/bronze/tickers/\",\n",
    "    mode=\"append\",\n",
    "    storage_options=minio_credentials.rust_s3_kwargs,\n",
    ")"
   ]
  },
  {
   "cell_type": "code",
   "execution_count": 27,
   "metadata": {},
   "outputs": [
    {
     "data": {
      "text/html": [
       "<div><style>\n",
       ".dataframe > thead > tr,\n",
       ".dataframe > tbody > tr {\n",
       "  text-align: right;\n",
       "  white-space: pre-wrap;\n",
       "}\n",
       "</style>\n",
       "<small>shape: (5_314, 18)</small><table border=\"1\" class=\"dataframe\"><thead><tr><th>active</th><th>cik</th><th>composite_figi</th><th>currency_name</th><th>currency_symbol</th><th>base_currency_symbol</th><th>base_currency_name</th><th>delisted_utc</th><th>last_updated_utc</th><th>locale</th><th>market</th><th>name</th><th>primary_exchange</th><th>share_class_figi</th><th>ticker</th><th>type</th><th>source_feed</th><th>ingestion_timestamp</th></tr><tr><td>bool</td><td>str</td><td>str</td><td>str</td><td>str</td><td>str</td><td>str</td><td>str</td><td>str</td><td>str</td><td>str</td><td>str</td><td>str</td><td>str</td><td>str</td><td>str</td><td>str</td><td>datetime[μs]</td></tr></thead><tbody><tr><td>true</td><td>&quot;0001090872&quot;</td><td>&quot;BBG000C2V3D6&quot;</td><td>&quot;usd&quot;</td><td>null</td><td>null</td><td>null</td><td>null</td><td>&quot;2024-03-01T00:…</td><td>&quot;us&quot;</td><td>&quot;stocks&quot;</td><td>&quot;Agilent Techno…</td><td>&quot;XNYS&quot;</td><td>&quot;BBG001SCTQY4&quot;</td><td>&quot;A&quot;</td><td>&quot;CS&quot;</td><td>null</td><td>2024-03-03 10:40:49.819465</td></tr><tr><td>true</td><td>&quot;0001675149&quot;</td><td>&quot;BBG00B3T3HD3&quot;</td><td>&quot;usd&quot;</td><td>null</td><td>null</td><td>null</td><td>null</td><td>&quot;2024-03-01T00:…</td><td>&quot;us&quot;</td><td>&quot;stocks&quot;</td><td>&quot;Alcoa Corporat…</td><td>&quot;XNYS&quot;</td><td>&quot;BBG00B3T3HF1&quot;</td><td>&quot;AA&quot;</td><td>&quot;CS&quot;</td><td>null</td><td>2024-03-03 10:40:49.819465</td></tr><tr><td>true</td><td>&quot;0001844817&quot;</td><td>&quot;BBG011XR7306&quot;</td><td>&quot;usd&quot;</td><td>null</td><td>null</td><td>null</td><td>null</td><td>&quot;2024-03-01T00:…</td><td>&quot;us&quot;</td><td>&quot;stocks&quot;</td><td>&quot;Armada Acquisi…</td><td>&quot;XNAS&quot;</td><td>&quot;BBG011XR7315&quot;</td><td>&quot;AACI&quot;</td><td>&quot;CS&quot;</td><td>null</td><td>2024-03-03 10:40:49.819465</td></tr><tr><td>true</td><td>&quot;0001853138&quot;</td><td>null</td><td>&quot;usd&quot;</td><td>null</td><td>null</td><td>null</td><td>null</td><td>&quot;2024-03-01T00:…</td><td>&quot;us&quot;</td><td>&quot;stocks&quot;</td><td>&quot;Ares Acquisiti…</td><td>&quot;XNYS&quot;</td><td>null</td><td>&quot;AACT&quot;</td><td>&quot;CS&quot;</td><td>null</td><td>2024-03-03 10:40:49.819465</td></tr><tr><td>true</td><td>&quot;0001422142&quot;</td><td>&quot;BBG002WN7DT2&quot;</td><td>&quot;usd&quot;</td><td>null</td><td>null</td><td>null</td><td>null</td><td>&quot;2024-03-01T00:…</td><td>&quot;us&quot;</td><td>&quot;stocks&quot;</td><td>&quot;Aadi Bioscienc…</td><td>&quot;XNAS&quot;</td><td>&quot;BBG002WN7DV9&quot;</td><td>&quot;AADI&quot;</td><td>&quot;CS&quot;</td><td>null</td><td>2024-03-03 10:40:49.819465</td></tr><tr><td>true</td><td>&quot;0001848898&quot;</td><td>&quot;BBG00ZKGK0R2&quot;</td><td>&quot;usd&quot;</td><td>null</td><td>null</td><td>null</td><td>null</td><td>&quot;2024-03-01T00:…</td><td>&quot;us&quot;</td><td>&quot;stocks&quot;</td><td>&quot;African Agricu…</td><td>&quot;XNAS&quot;</td><td>&quot;BBG00ZKGK109&quot;</td><td>&quot;AAGR&quot;</td><td>&quot;CS&quot;</td><td>null</td><td>2024-03-03 10:40:49.819465</td></tr><tr><td>true</td><td>&quot;0000006201&quot;</td><td>&quot;BBG005P7Q881&quot;</td><td>&quot;usd&quot;</td><td>null</td><td>null</td><td>null</td><td>null</td><td>&quot;2024-03-01T00:…</td><td>&quot;us&quot;</td><td>&quot;stocks&quot;</td><td>&quot;American Airli…</td><td>&quot;XNAS&quot;</td><td>&quot;BBG005P7Q907&quot;</td><td>&quot;AAL&quot;</td><td>&quot;CS&quot;</td><td>null</td><td>2024-03-03 10:40:49.819465</td></tr><tr><td>true</td><td>&quot;0001555074&quot;</td><td>&quot;BBG003PNL136&quot;</td><td>&quot;usd&quot;</td><td>null</td><td>null</td><td>null</td><td>null</td><td>&quot;2024-03-01T00:…</td><td>&quot;us&quot;</td><td>&quot;stocks&quot;</td><td>&quot;Altisource Ass…</td><td>&quot;XASE&quot;</td><td>&quot;BBG003PNL145&quot;</td><td>&quot;AAMC&quot;</td><td>&quot;CS&quot;</td><td>null</td><td>2024-03-03 10:40:49.819465</td></tr><tr><td>true</td><td>&quot;0000008177&quot;</td><td>&quot;BBG000B9XB24&quot;</td><td>&quot;usd&quot;</td><td>null</td><td>null</td><td>null</td><td>null</td><td>&quot;2024-03-01T00:…</td><td>&quot;us&quot;</td><td>&quot;stocks&quot;</td><td>&quot;Atlantic Ameri…</td><td>&quot;XNAS&quot;</td><td>&quot;BBG001S5N8T1&quot;</td><td>&quot;AAME&quot;</td><td>&quot;CS&quot;</td><td>null</td><td>2024-03-03 10:40:49.819465</td></tr><tr><td>true</td><td>&quot;0001821393&quot;</td><td>&quot;BBG00WCNDCZ6&quot;</td><td>&quot;usd&quot;</td><td>null</td><td>null</td><td>null</td><td>null</td><td>&quot;2024-03-01T00:…</td><td>&quot;us&quot;</td><td>&quot;stocks&quot;</td><td>&quot;The Aaron&#x27;s Co…</td><td>&quot;XNYS&quot;</td><td>&quot;BBG00WCNDDH4&quot;</td><td>&quot;AAN&quot;</td><td>&quot;CS&quot;</td><td>null</td><td>2024-03-03 10:40:49.819465</td></tr><tr><td>true</td><td>&quot;0001158114&quot;</td><td>&quot;BBG000D6VW15&quot;</td><td>&quot;usd&quot;</td><td>null</td><td>null</td><td>null</td><td>null</td><td>&quot;2024-03-01T00:…</td><td>&quot;us&quot;</td><td>&quot;stocks&quot;</td><td>&quot;Applied Optoel…</td><td>&quot;XNAS&quot;</td><td>&quot;BBG001SG47G4&quot;</td><td>&quot;AAOI&quot;</td><td>&quot;CS&quot;</td><td>null</td><td>2024-03-03 10:40:49.819465</td></tr><tr><td>true</td><td>&quot;0000824142&quot;</td><td>&quot;BBG000C2LZP3&quot;</td><td>&quot;usd&quot;</td><td>null</td><td>null</td><td>null</td><td>null</td><td>&quot;2024-03-01T00:…</td><td>&quot;us&quot;</td><td>&quot;stocks&quot;</td><td>&quot;Aaon Inc&quot;</td><td>&quot;XNAS&quot;</td><td>&quot;BBG001S6CZK0&quot;</td><td>&quot;AAON&quot;</td><td>&quot;CS&quot;</td><td>null</td><td>2024-03-03 10:40:49.819465</td></tr><tr><td>&hellip;</td><td>&hellip;</td><td>&hellip;</td><td>&hellip;</td><td>&hellip;</td><td>&hellip;</td><td>&hellip;</td><td>&hellip;</td><td>&hellip;</td><td>&hellip;</td><td>&hellip;</td><td>&hellip;</td><td>&hellip;</td><td>&hellip;</td><td>&hellip;</td><td>&hellip;</td><td>&hellip;</td><td>&hellip;</td></tr><tr><td>true</td><td>&quot;0001713683&quot;</td><td>&quot;BBG003338H34&quot;</td><td>&quot;usd&quot;</td><td>null</td><td>null</td><td>null</td><td>null</td><td>&quot;2024-03-01T00:…</td><td>&quot;us&quot;</td><td>&quot;stocks&quot;</td><td>&quot;Zscaler, Inc. …</td><td>&quot;XNAS&quot;</td><td>&quot;BBG003338H61&quot;</td><td>&quot;ZS&quot;</td><td>&quot;CS&quot;</td><td>null</td><td>2024-03-03 10:40:49.819465</td></tr><tr><td>true</td><td>&quot;0001904501&quot;</td><td>&quot;BBG002V3D8N7&quot;</td><td>&quot;usd&quot;</td><td>null</td><td>null</td><td>null</td><td>null</td><td>&quot;2024-03-01T00:…</td><td>&quot;us&quot;</td><td>&quot;stocks&quot;</td><td>&quot;Zentek Ltd. Co…</td><td>&quot;XNAS&quot;</td><td>&quot;BBG001TFBYY8&quot;</td><td>&quot;ZTEK&quot;</td><td>&quot;CS&quot;</td><td>null</td><td>2024-03-03 10:40:49.819465</td></tr><tr><td>true</td><td>&quot;0001555280&quot;</td><td>&quot;BBG0039320N9&quot;</td><td>&quot;usd&quot;</td><td>null</td><td>null</td><td>null</td><td>null</td><td>&quot;2024-03-01T00:…</td><td>&quot;us&quot;</td><td>&quot;stocks&quot;</td><td>&quot;ZOETIS INC.&quot;</td><td>&quot;XNYS&quot;</td><td>&quot;BBG0039320P7&quot;</td><td>&quot;ZTS&quot;</td><td>&quot;CS&quot;</td><td>null</td><td>2024-03-03 10:40:49.819465</td></tr><tr><td>true</td><td>&quot;0001318008&quot;</td><td>&quot;BBG000PYX812&quot;</td><td>&quot;usd&quot;</td><td>null</td><td>null</td><td>null</td><td>null</td><td>&quot;2024-03-01T00:…</td><td>&quot;us&quot;</td><td>&quot;stocks&quot;</td><td>&quot;Zumiez Inc.&quot;</td><td>&quot;XNAS&quot;</td><td>&quot;BBG001SGPKJ9&quot;</td><td>&quot;ZUMZ&quot;</td><td>&quot;CS&quot;</td><td>null</td><td>2024-03-03 10:40:49.819465</td></tr><tr><td>true</td><td>&quot;0001423774&quot;</td><td>&quot;BBG000BT3HG5&quot;</td><td>&quot;usd&quot;</td><td>null</td><td>null</td><td>null</td><td>null</td><td>&quot;2024-03-01T00:…</td><td>&quot;us&quot;</td><td>&quot;stocks&quot;</td><td>&quot;Zuora, Inc.&quot;</td><td>&quot;XNYS&quot;</td><td>&quot;BBG001SS0FH3&quot;</td><td>&quot;ZUO&quot;</td><td>&quot;CS&quot;</td><td>null</td><td>2024-03-03 10:40:49.819465</td></tr><tr><td>true</td><td>&quot;0001855644&quot;</td><td>null</td><td>&quot;usd&quot;</td><td>null</td><td>null</td><td>null</td><td>null</td><td>&quot;2024-03-01T00:…</td><td>&quot;us&quot;</td><td>&quot;stocks&quot;</td><td>&quot;Zura Bio Limit…</td><td>&quot;XNAS&quot;</td><td>null</td><td>&quot;ZURA&quot;</td><td>&quot;CS&quot;</td><td>null</td><td>2024-03-03 10:40:49.819465</td></tr><tr><td>true</td><td>&quot;0001854139&quot;</td><td>&quot;BBG011S2NX76&quot;</td><td>&quot;usd&quot;</td><td>null</td><td>null</td><td>null</td><td>null</td><td>&quot;2024-03-01T00:…</td><td>&quot;us&quot;</td><td>&quot;stocks&quot;</td><td>&quot;Zevia PBC&quot;</td><td>&quot;XNYS&quot;</td><td>&quot;BBG011S2NY29&quot;</td><td>&quot;ZVIA&quot;</td><td>&quot;CS&quot;</td><td>null</td><td>2024-03-03 10:40:49.819465</td></tr><tr><td>true</td><td>&quot;0001434647&quot;</td><td>&quot;BBG0026ZG1F5&quot;</td><td>&quot;usd&quot;</td><td>null</td><td>null</td><td>null</td><td>null</td><td>&quot;2024-03-01T00:…</td><td>&quot;us&quot;</td><td>&quot;stocks&quot;</td><td>&quot;Zevra Therapeu…</td><td>&quot;XNAS&quot;</td><td>&quot;BBG0026ZG1G4&quot;</td><td>&quot;ZVRA&quot;</td><td>&quot;CS&quot;</td><td>null</td><td>2024-03-03 10:40:49.819465</td></tr><tr><td>true</td><td>&quot;0001859007&quot;</td><td>&quot;BBG01137LPK6&quot;</td><td>&quot;usd&quot;</td><td>null</td><td>null</td><td>null</td><td>null</td><td>&quot;2024-03-01T00:…</td><td>&quot;us&quot;</td><td>&quot;stocks&quot;</td><td>&quot;ZyVersa Therap…</td><td>&quot;XNAS&quot;</td><td>&quot;BBG01137LQD2&quot;</td><td>&quot;ZVSA&quot;</td><td>&quot;CS&quot;</td><td>null</td><td>2024-03-03 10:40:49.819465</td></tr><tr><td>true</td><td>&quot;0001439288&quot;</td><td>&quot;BBG000H8R0N8&quot;</td><td>&quot;usd&quot;</td><td>null</td><td>null</td><td>null</td><td>null</td><td>&quot;2024-03-01T00:…</td><td>&quot;us&quot;</td><td>&quot;stocks&quot;</td><td>&quot;Zurn Elkay Wat…</td><td>&quot;XNYS&quot;</td><td>&quot;BBG001T36GB5&quot;</td><td>&quot;ZWS&quot;</td><td>&quot;CS&quot;</td><td>null</td><td>2024-03-03 10:40:49.819465</td></tr><tr><td>true</td><td>&quot;0001937653&quot;</td><td>&quot;BBG019XSYC89&quot;</td><td>&quot;usd&quot;</td><td>null</td><td>null</td><td>null</td><td>null</td><td>&quot;2024-03-01T00:…</td><td>&quot;us&quot;</td><td>&quot;stocks&quot;</td><td>&quot;Zymeworks Inc.…</td><td>&quot;XNAS&quot;</td><td>&quot;BBG019XSYC98&quot;</td><td>&quot;ZYME&quot;</td><td>&quot;CS&quot;</td><td>null</td><td>2024-03-03 10:40:49.819465</td></tr><tr><td>true</td><td>&quot;0000846475&quot;</td><td>&quot;BBG000BJBXZ2&quot;</td><td>&quot;usd&quot;</td><td>null</td><td>null</td><td>null</td><td>null</td><td>&quot;2024-03-01T00:…</td><td>&quot;us&quot;</td><td>&quot;stocks&quot;</td><td>&quot;ZYNEX INC&quot;</td><td>&quot;XNAS&quot;</td><td>&quot;BBG001S7T7V0&quot;</td><td>&quot;ZYXI&quot;</td><td>&quot;CS&quot;</td><td>null</td><td>2024-03-03 10:40:49.819465</td></tr></tbody></table></div>"
      ],
      "text/plain": [
       "shape: (5_314, 18)\n",
       "┌────────┬────────────┬──────────────┬─────────────┬───┬────────┬──────┬─────────────┬─────────────┐\n",
       "│ active ┆ cik        ┆ composite_fi ┆ currency_na ┆ … ┆ ticker ┆ type ┆ source_feed ┆ ingestion_t │\n",
       "│ ---    ┆ ---        ┆ gi           ┆ me          ┆   ┆ ---    ┆ ---  ┆ ---         ┆ imestamp    │\n",
       "│ bool   ┆ str        ┆ ---          ┆ ---         ┆   ┆ str    ┆ str  ┆ str         ┆ ---         │\n",
       "│        ┆            ┆ str          ┆ str         ┆   ┆        ┆      ┆             ┆ datetime[μs │\n",
       "│        ┆            ┆              ┆             ┆   ┆        ┆      ┆             ┆ ]           │\n",
       "╞════════╪════════════╪══════════════╪═════════════╪═══╪════════╪══════╪═════════════╪═════════════╡\n",
       "│ true   ┆ 0001090872 ┆ BBG000C2V3D6 ┆ usd         ┆ … ┆ A      ┆ CS   ┆ null        ┆ 2024-03-03  │\n",
       "│        ┆            ┆              ┆             ┆   ┆        ┆      ┆             ┆ 10:40:49.81 │\n",
       "│        ┆            ┆              ┆             ┆   ┆        ┆      ┆             ┆ 9465        │\n",
       "│ true   ┆ 0001675149 ┆ BBG00B3T3HD3 ┆ usd         ┆ … ┆ AA     ┆ CS   ┆ null        ┆ 2024-03-03  │\n",
       "│        ┆            ┆              ┆             ┆   ┆        ┆      ┆             ┆ 10:40:49.81 │\n",
       "│        ┆            ┆              ┆             ┆   ┆        ┆      ┆             ┆ 9465        │\n",
       "│ true   ┆ 0001844817 ┆ BBG011XR7306 ┆ usd         ┆ … ┆ AACI   ┆ CS   ┆ null        ┆ 2024-03-03  │\n",
       "│        ┆            ┆              ┆             ┆   ┆        ┆      ┆             ┆ 10:40:49.81 │\n",
       "│        ┆            ┆              ┆             ┆   ┆        ┆      ┆             ┆ 9465        │\n",
       "│ true   ┆ 0001853138 ┆ null         ┆ usd         ┆ … ┆ AACT   ┆ CS   ┆ null        ┆ 2024-03-03  │\n",
       "│        ┆            ┆              ┆             ┆   ┆        ┆      ┆             ┆ 10:40:49.81 │\n",
       "│        ┆            ┆              ┆             ┆   ┆        ┆      ┆             ┆ 9465        │\n",
       "│ true   ┆ 0001422142 ┆ BBG002WN7DT2 ┆ usd         ┆ … ┆ AADI   ┆ CS   ┆ null        ┆ 2024-03-03  │\n",
       "│        ┆            ┆              ┆             ┆   ┆        ┆      ┆             ┆ 10:40:49.81 │\n",
       "│        ┆            ┆              ┆             ┆   ┆        ┆      ┆             ┆ 9465        │\n",
       "│ …      ┆ …          ┆ …            ┆ …           ┆ … ┆ …      ┆ …    ┆ …           ┆ …           │\n",
       "│ true   ┆ 0001434647 ┆ BBG0026ZG1F5 ┆ usd         ┆ … ┆ ZVRA   ┆ CS   ┆ null        ┆ 2024-03-03  │\n",
       "│        ┆            ┆              ┆             ┆   ┆        ┆      ┆             ┆ 10:40:49.81 │\n",
       "│        ┆            ┆              ┆             ┆   ┆        ┆      ┆             ┆ 9465        │\n",
       "│ true   ┆ 0001859007 ┆ BBG01137LPK6 ┆ usd         ┆ … ┆ ZVSA   ┆ CS   ┆ null        ┆ 2024-03-03  │\n",
       "│        ┆            ┆              ┆             ┆   ┆        ┆      ┆             ┆ 10:40:49.81 │\n",
       "│        ┆            ┆              ┆             ┆   ┆        ┆      ┆             ┆ 9465        │\n",
       "│ true   ┆ 0001439288 ┆ BBG000H8R0N8 ┆ usd         ┆ … ┆ ZWS    ┆ CS   ┆ null        ┆ 2024-03-03  │\n",
       "│        ┆            ┆              ┆             ┆   ┆        ┆      ┆             ┆ 10:40:49.81 │\n",
       "│        ┆            ┆              ┆             ┆   ┆        ┆      ┆             ┆ 9465        │\n",
       "│ true   ┆ 0001937653 ┆ BBG019XSYC89 ┆ usd         ┆ … ┆ ZYME   ┆ CS   ┆ null        ┆ 2024-03-03  │\n",
       "│        ┆            ┆              ┆             ┆   ┆        ┆      ┆             ┆ 10:40:49.81 │\n",
       "│        ┆            ┆              ┆             ┆   ┆        ┆      ┆             ┆ 9465        │\n",
       "│ true   ┆ 0000846475 ┆ BBG000BJBXZ2 ┆ usd         ┆ … ┆ ZYXI   ┆ CS   ┆ null        ┆ 2024-03-03  │\n",
       "│        ┆            ┆              ┆             ┆   ┆        ┆      ┆             ┆ 10:40:49.81 │\n",
       "│        ┆            ┆              ┆             ┆   ┆        ┆      ┆             ┆ 9465        │\n",
       "└────────┴────────────┴──────────────┴─────────────┴───┴────────┴──────┴─────────────┴─────────────┘"
      ]
     },
     "execution_count": 27,
     "metadata": {},
     "output_type": "execute_result"
    }
   ],
   "source": [
    "pl.read_delta(f\"s3://etl/polygon/bronze/tickers/\", storage_options=minio_credentials.rust_s3_kwargs)"
   ]
  }
 ],
 "metadata": {
  "kernelspec": {
   "display_name": "temp.polygon_ETL",
   "language": "python",
   "name": "temp.polygon_etl"
  },
  "language_info": {
   "codemirror_mode": {
    "name": "ipython",
    "version": 3
   },
   "file_extension": ".py",
   "mimetype": "text/x-python",
   "name": "python",
   "nbconvert_exporter": "python",
   "pygments_lexer": "ipython3",
   "version": "3.11.7"
  }
 },
 "nbformat": 4,
 "nbformat_minor": 2
}
